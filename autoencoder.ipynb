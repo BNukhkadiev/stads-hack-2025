{
 "cells": [
  {
   "cell_type": "code",
   "execution_count": 1,
   "metadata": {},
   "outputs": [],
   "source": [
    "import torch\n",
    "import torch.nn as nn\n",
    "import torch.optim as optim\n",
    "from torch.utils.data import DataLoader, TensorDataset\n",
    "import numpy as np\n",
    "from sklearn.preprocessing import StandardScaler, LabelEncoder\n",
    "\n",
    "# Load dataset\n",
    "import pandas as pd\n",
    "df = pd.read_csv(\"datathon_data.csv\")  # Update with your file path\n",
    "\n",
    "# Define features\n",
    "categorical_features = ['WAERS', 'BUKRS', 'KTOSL', 'PRCTR', 'BSCHL', 'HKONT']\n",
    "numerical_features = ['DMBTR', 'WRBTR']\n",
    "\n",
    "# Encode categorical features\n",
    "for col in categorical_features:\n",
    "    le = LabelEncoder()\n",
    "    df[col] = le.fit_transform(df[col])\n",
    "\n",
    "# Scale numerical features\n",
    "scaler = StandardScaler()\n",
    "df[numerical_features] = scaler.fit_transform(df[numerical_features])\n",
    "\n",
    "# Convert to tensor\n",
    "transaction_tensor = torch.tensor(df[numerical_features + categorical_features].values, dtype=torch.float32)\n",
    "\n",
    "# Create DataLoader\n",
    "batch_size = 512\n",
    "dataset = TensorDataset(transaction_tensor)\n",
    "dataloader = DataLoader(dataset, batch_size=batch_size, shuffle=True)\n"
   ]
  },
  {
   "cell_type": "code",
   "execution_count": 2,
   "metadata": {},
   "outputs": [],
   "source": [
    "# Define Autoencoder Model\n",
    "class TransactionAutoencoder(nn.Module):\n",
    "    def __init__(self, input_dim, latent_dim=4):\n",
    "        super(TransactionAutoencoder, self).__init__()\n",
    "        self.encoder = nn.Sequential(\n",
    "            nn.Linear(input_dim, 16),\n",
    "            nn.ReLU(),\n",
    "            nn.Linear(16, latent_dim)\n",
    "        )\n",
    "        self.decoder = nn.Sequential(\n",
    "            nn.Linear(latent_dim, 16),\n",
    "            nn.ReLU(),\n",
    "            nn.Linear(16, input_dim)\n",
    "        )\n",
    "\n",
    "    def forward(self, x):\n",
    "        encoded = self.encoder(x)\n",
    "        decoded = self.decoder(encoded)\n",
    "        return encoded, decoded\n",
    "\n",
    "# Initialize Model\n",
    "input_dim = transaction_tensor.shape[1]\n",
    "latent_dim = 4\n",
    "device = torch.device(\"cuda\" if torch.cuda.is_available() else \"cpu\")\n",
    "autoencoder = TransactionAutoencoder(input_dim, latent_dim).to(device)\n"
   ]
  },
  {
   "cell_type": "code",
   "execution_count": 3,
   "metadata": {},
   "outputs": [
    {
     "name": "stdout",
     "output_type": "stream",
     "text": [
      "Epoch [1/20], Loss: 32.197238\n",
      "Epoch [2/20], Loss: 0.443333\n",
      "Epoch [3/20], Loss: 0.292280\n",
      "Epoch [4/20], Loss: 0.270495\n",
      "Epoch [5/20], Loss: 0.251720\n",
      "Epoch [6/20], Loss: 0.231855\n",
      "Epoch [7/20], Loss: 0.216271\n",
      "Epoch [8/20], Loss: 0.201184\n",
      "Epoch [9/20], Loss: 0.190124\n",
      "Epoch [10/20], Loss: 0.184369\n",
      "Epoch [11/20], Loss: 0.179234\n",
      "Epoch [12/20], Loss: 0.172729\n",
      "Epoch [13/20], Loss: 0.163361\n",
      "Epoch [14/20], Loss: 0.157597\n",
      "Epoch [15/20], Loss: 0.153068\n",
      "Epoch [16/20], Loss: 0.149302\n",
      "Epoch [17/20], Loss: 0.146688\n",
      "Epoch [18/20], Loss: 0.144455\n",
      "Epoch [19/20], Loss: 0.141950\n",
      "Epoch [20/20], Loss: 0.141141\n"
     ]
    }
   ],
   "source": [
    "\n",
    "# Define Optimizer and Loss Function\n",
    "optimizer = optim.Adam(autoencoder.parameters(), lr=0.001)\n",
    "loss_function = nn.MSELoss()\n",
    "\n",
    "# Train Autoencoder\n",
    "num_epochs = 20\n",
    "loss_history = []\n",
    "\n",
    "for epoch in range(num_epochs):\n",
    "    epoch_loss = 0\n",
    "    for batch in dataloader:\n",
    "        batch_data = batch[0].to(device)\n",
    "\n",
    "        optimizer.zero_grad()\n",
    "        encoded, decoded = autoencoder(batch_data)\n",
    "        loss = loss_function(decoded, batch_data)\n",
    "        loss.backward()\n",
    "        optimizer.step()\n",
    "\n",
    "        epoch_loss += loss.item()\n",
    "\n",
    "    avg_loss = epoch_loss / len(dataloader)\n",
    "    loss_history.append(avg_loss)\n",
    "    print(f\"Epoch [{epoch+1}/{num_epochs}], Loss: {avg_loss:.6f}\")\n",
    "\n",
    "\n"
   ]
  },
  {
   "cell_type": "code",
   "execution_count": 4,
   "metadata": {},
   "outputs": [
    {
     "name": "stdout",
     "output_type": "stream",
     "text": [
      "Embeddings saved successfully!\n"
     ]
    }
   ],
   "source": [
    "# Extract embeddings\n",
    "with torch.no_grad():\n",
    "    transaction_embeddings = autoencoder.encoder(transaction_tensor.to(device)).cpu().numpy()\n",
    "\n",
    "# Save embeddings\n",
    "np.save(\"transaction_embeddings.npy\", transaction_embeddings)\n",
    "\n",
    "print(\"Embeddings saved successfully!\")"
   ]
  },
  {
   "cell_type": "code",
   "execution_count": null,
   "metadata": {},
   "outputs": [],
   "source": []
  }
 ],
 "metadata": {
  "kernelspec": {
   "display_name": "torch_env",
   "language": "python",
   "name": "python3"
  },
  "language_info": {
   "codemirror_mode": {
    "name": "ipython",
    "version": 3
   },
   "file_extension": ".py",
   "mimetype": "text/x-python",
   "name": "python",
   "nbconvert_exporter": "python",
   "pygments_lexer": "ipython3",
   "version": "3.11.11"
  }
 },
 "nbformat": 4,
 "nbformat_minor": 2
}
