{
 "cells": [
  {
   "cell_type": "markdown",
   "metadata": {},
   "source": [
    "# Training Autoencoder\n",
    "\n",
    "We need autoencoder to have representative embeddings of transactions data.\n",
    "\n",
    "We later use them in vector database."
   ]
  },
  {
   "cell_type": "code",
   "execution_count": 1,
   "metadata": {},
   "outputs": [],
   "source": [
    "import torch\n",
    "import torch.nn as nn\n",
    "import torch.optim as optim\n",
    "from torch.utils.data import DataLoader, TensorDataset\n",
    "import numpy as np\n",
    "from sklearn.preprocessing import StandardScaler, LabelEncoder\n",
    "from model import TransactionAutoencoder, RefinedTransactionAutoencoder\n",
    "import pandas as pd\n",
    "\n",
    "\n",
    "df = pd.read_csv(\"data/datathon_data.csv\")  # Update with your file path\n",
    "\n",
    "# Define features\n",
    "categorical_features = ['WAERS', 'BUKRS', 'KTOSL', 'PRCTR', 'BSCHL', 'HKONT']\n",
    "numerical_features = ['DMBTR', 'WRBTR']\n",
    "\n",
    "# Encode categorical features\n",
    "for col in categorical_features:\n",
    "    le = LabelEncoder()\n",
    "    df[col] = le.fit_transform(df[col])\n",
    "\n",
    "# Scale numerical features\n",
    "scaler = StandardScaler()\n",
    "df[numerical_features] = scaler.fit_transform(df[numerical_features])\n",
    "\n",
    "# Convert to tensor\n",
    "transaction_tensor = torch.tensor(df[numerical_features + categorical_features].values, dtype=torch.float32)\n",
    "\n",
    "# Create DataLoader\n",
    "batch_size = 256\n",
    "dataset = TensorDataset(transaction_tensor)\n",
    "dataloader = DataLoader(dataset, batch_size=batch_size, shuffle=True)\n"
   ]
  },
  {
   "cell_type": "code",
   "execution_count": 2,
   "metadata": {},
   "outputs": [],
   "source": [
    "# Initialize Model\n",
    "input_dim = transaction_tensor.shape[1]\n",
    "latent_dim = 8\n",
    "device = torch.device(\"cuda\" if torch.cuda.is_available() else \"cpu\")\n",
    "autoencoder = RefinedTransactionAutoencoder(input_dim, latent_dim).to(device)\n"
   ]
  },
  {
   "cell_type": "code",
   "execution_count": 3,
   "metadata": {},
   "outputs": [
    {
     "name": "stdout",
     "output_type": "stream",
     "text": [
      "Epoch [1/20], Loss: 66.079317\n",
      "Epoch [2/20], Loss: 1.556077\n",
      "Epoch [3/20], Loss: 1.442188\n",
      "Epoch [4/20], Loss: 1.300368\n",
      "Epoch [5/20], Loss: 1.273005\n",
      "Epoch [6/20], Loss: 1.173459\n",
      "Epoch [7/20], Loss: 1.100377\n",
      "Epoch [8/20], Loss: 1.051634\n",
      "Epoch [9/20], Loss: 1.091232\n",
      "Epoch [10/20], Loss: 1.044015\n",
      "Epoch [11/20], Loss: 1.063117\n",
      "Epoch [12/20], Loss: 1.033066\n",
      "Epoch [13/20], Loss: 1.002976\n",
      "Epoch [14/20], Loss: 1.020708\n",
      "Epoch [15/20], Loss: 0.968791\n",
      "Epoch [16/20], Loss: 0.977267\n",
      "Epoch [17/20], Loss: 0.961902\n",
      "Epoch [18/20], Loss: 0.955035\n",
      "Epoch [19/20], Loss: 0.982130\n",
      "Epoch [20/20], Loss: 0.940813\n"
     ]
    }
   ],
   "source": [
    "\n",
    "# Define Optimizer and Loss Function\n",
    "optimizer = optim.Adam(autoencoder.parameters(), lr=0.001)\n",
    "loss_function = nn.MSELoss()\n",
    "\n",
    "# Train Autoencoder\n",
    "num_epochs = 20\n",
    "loss_history = []\n",
    "\n",
    "for epoch in range(num_epochs):\n",
    "    epoch_loss = 0\n",
    "    for batch in dataloader:\n",
    "        batch_data = batch[0].to(device)\n",
    "\n",
    "        optimizer.zero_grad()\n",
    "        encoded, decoded = autoencoder(batch_data)\n",
    "        loss = loss_function(decoded, batch_data)\n",
    "        loss.backward()\n",
    "        optimizer.step()\n",
    "\n",
    "        epoch_loss += loss.item()\n",
    "\n",
    "    avg_loss = epoch_loss / len(dataloader)\n",
    "    loss_history.append(avg_loss)\n",
    "    print(f\"Epoch [{epoch+1}/{num_epochs}], Loss: {avg_loss:.6f}\")\n"
   ]
  },
  {
   "cell_type": "code",
   "execution_count": 4,
   "metadata": {},
   "outputs": [
    {
     "name": "stdout",
     "output_type": "stream",
     "text": [
      "Embeddings saved successfully!\n"
     ]
    }
   ],
   "source": [
    "# Extract embeddings\n",
    "with torch.no_grad():\n",
    "    transaction_embeddings = autoencoder.encoder(transaction_tensor.to(device)).cpu().numpy()\n",
    "\n",
    "# Save embeddings\n",
    "np.save(\"weights/refined_transaction_embeddings.npy\", transaction_embeddings)\n",
    "\n",
    "print(\"Embeddings saved successfully!\")"
   ]
  },
  {
   "cell_type": "code",
   "execution_count": null,
   "metadata": {},
   "outputs": [],
   "source": []
  }
 ],
 "metadata": {
  "kernelspec": {
   "display_name": "torch_env",
   "language": "python",
   "name": "python3"
  },
  "language_info": {
   "codemirror_mode": {
    "name": "ipython",
    "version": 3
   },
   "file_extension": ".py",
   "mimetype": "text/x-python",
   "name": "python",
   "nbconvert_exporter": "python",
   "pygments_lexer": "ipython3",
   "version": "3.11.11"
  }
 },
 "nbformat": 4,
 "nbformat_minor": 2
}
