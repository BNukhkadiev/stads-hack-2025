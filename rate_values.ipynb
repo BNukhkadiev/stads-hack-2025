{
 "cells": [
  {
   "cell_type": "code",
   "execution_count": 1,
   "metadata": {},
   "outputs": [],
   "source": [
    "import pandas as pd\n",
    "import seaborn as sns\n",
    "import matplotlib.pyplot as plt"
   ]
  },
  {
   "cell_type": "code",
   "execution_count": null,
   "metadata": {},
   "outputs": [],
   "source": [
    "df = pd.read_csv(\"data/datathon_data.csv\")\n",
    "categorical_cols = [\"WAERS\", \"BUKRS\", \"KTOSL\", \"PRCTR\", \"BSCHL\", \"HKONT\"]\n"
   ]
  },
  {
   "cell_type": "code",
   "execution_count": 83,
   "metadata": {},
   "outputs": [
    {
     "name": "stdout",
     "output_type": "stream",
     "text": [
      "Unique value counts per categorical column:\n",
      "{'WAERS': 76, 'BUKRS': 158, 'KTOSL': 79, 'PRCTR': 157, 'BSCHL': 73, 'HKONT': 73}\n"
     ]
    }
   ],
   "source": [
    "unique_counts = {col: df[col].nunique() for col in categorical_cols}\n",
    "print(\"Unique value counts per categorical column:\")\n",
    "print(unique_counts)\n"
   ]
  },
  {
   "cell_type": "code",
   "execution_count": 120,
   "metadata": {},
   "outputs": [],
   "source": [
    "import pandas as pd\n",
    "\n",
    "def compute_anomaly_ratios(df, categorical_cols, label_col='label', anomaly_value='anomal'):\n",
    "    info = {}\n",
    "    \n",
    "    for col in categorical_cols:\n",
    "        grouped = df.groupby(col)\n",
    "        ratio = grouped[label_col].value_counts(normalize=True).unstack().fillna(0).get(anomaly_value, 0)\n",
    "        info[col] = pd.DataFrame({\"ratio\": ratio, \"n_unique\": df.groupby(col).size()}).reset_index()\n",
    "        info[col] = info[col].rename(columns={col: \"value\"})\n",
    "        info[col][\"variable\"] = col\n",
    "        \n",
    "\n",
    "    return info\n",
    "\n",
    "# Example usage\n",
    "categorical_columns = [\"WAERS\", \"BUKRS\", \"KTOSL\", \"PRCTR\", \"BSCHL\", \"HKONT\"]\n",
    "anomaly_ratio_dict = compute_anomaly_ratios(df, categorical_columns)\n",
    "anomyly_ratios = pd.concat(anomaly_ratio_dict.values(), axis=0, ignore_index=True)\n"
   ]
  },
  {
   "cell_type": "code",
   "execution_count": 156,
   "metadata": {},
   "outputs": [
    {
     "data": {
      "text/plain": [
       "0      1.0\n",
       "1      1.0\n",
       "2      1.0\n",
       "11     1.0\n",
       "13     1.0\n",
       "      ... \n",
       "611    1.0\n",
       "612    1.0\n",
       "613    1.0\n",
       "614    1.0\n",
       "615    1.0\n",
       "Name: ratio, Length: 412, dtype: float64"
      ]
     },
     "execution_count": 156,
     "metadata": {},
     "output_type": "execute_result"
    }
   ],
   "source": [
    "all_anomaly_1val = anomyly_ratios[anomyly_ratios.ratio == 1]\n",
    "all_anomaly_1val.variable.unique()\n",
    "all_anomaly_1val[all_anomaly_1val.n_unique > 1]\n",
    "\n",
    "#anomyly_ratios[(anomyly_ratios.ratio > 0.5) & (anomyly_ratios.ratio < 1)]\n",
    "rare_values = anomyly_ratios[anomyly_ratios.n_unique < 10]\n"
   ]
  }
 ],
 "metadata": {
  "kernelspec": {
   "display_name": "Python 3",
   "language": "python",
   "name": "python3"
  },
  "language_info": {
   "codemirror_mode": {
    "name": "ipython",
    "version": 3
   },
   "file_extension": ".py",
   "mimetype": "text/x-python",
   "name": "python",
   "nbconvert_exporter": "python",
   "pygments_lexer": "ipython3",
   "version": "3.13.1"
  }
 },
 "nbformat": 4,
 "nbformat_minor": 2
}
