{
 "cells": [
  {
   "cell_type": "code",
   "execution_count": 1,
   "metadata": {},
   "outputs": [
    {
     "name": "stdout",
     "output_type": "stream",
     "text": [
      "Stored 533009 embeddings in FAISS index!\n"
     ]
    }
   ],
   "source": [
    "import faiss\n",
    "import numpy as np\n",
    "\n",
    "# Load the trained embeddings\n",
    "transaction_embeddings = np.load(\"weights/refined_transaction_embeddings.npy\").astype('float32')\n",
    "\n",
    "# Define FAISS index (L2 distance for similarity search)\n",
    "dimension = transaction_embeddings.shape[1]  # Number of features in embeddings\n",
    "index = faiss.IndexFlatL2(dimension)\n",
    "\n",
    "# Add embeddings to FAISS index\n",
    "index.add(transaction_embeddings)\n",
    "\n",
    "# Save FAISS index\n",
    "faiss.write_index(index, \"index/refined_transaction_faiss.index\")\n",
    "\n",
    "print(f\"Stored {index.ntotal} embeddings in FAISS index!\")\n"
   ]
  },
  {
   "cell_type": "code",
   "execution_count": 3,
   "metadata": {},
   "outputs": [
    {
     "name": "stdout",
     "output_type": "stream",
     "text": [
      "Query Transaction ID: 12939\n",
      "Similar Transactions IDs: [ 12939 278540 105064  83345 179179]\n",
      "Distances: [0.         0.00075518 0.00075527 0.00075668 0.00075769]\n"
     ]
    }
   ],
   "source": [
    "\n",
    "# Load the FAISS index\n",
    "index = faiss.read_index(\"index/refined_transaction_faiss.index\")\n",
    "\n",
    "# Load embeddings to retrieve original data points\n",
    "transaction_embeddings = np.load(\"weights/refined_transaction_embeddings.npy\").astype(\"float32\")\n",
    "\n",
    "# Function to query similar transactions\n",
    "def find_similar_transactions(query_embedding, top_k=5):\n",
    "    query_embedding = np.array([query_embedding], dtype=\"float32\")  # Reshape for FAISS\n",
    "    distances, indices = index.search(query_embedding, top_k)  # Retrieve top-k similar transactions\n",
    "    return distances, indices\n",
    "\n",
    "# Example query: Use a random transaction\n",
    "query_id = 12939  # Pick an anomaly transaction ID\n",
    "query_embedding = transaction_embeddings[query_id]\n",
    "\n",
    "# Find similar transactions\n",
    "distances, indices = find_similar_transactions(query_embedding, top_k=5)\n",
    "\n",
    "# Print results\n",
    "print(f\"Query Transaction ID: {query_id}\")\n",
    "print(f\"Similar Transactions IDs: {indices[0]}\")\n",
    "print(f\"Distances: {distances[0]}\")\n"
   ]
  },
  {
   "cell_type": "code",
   "execution_count": null,
   "metadata": {},
   "outputs": [],
   "source": []
  }
 ],
 "metadata": {
  "kernelspec": {
   "display_name": "torch_env",
   "language": "python",
   "name": "python3"
  },
  "language_info": {
   "codemirror_mode": {
    "name": "ipython",
    "version": 3
   },
   "file_extension": ".py",
   "mimetype": "text/x-python",
   "name": "python",
   "nbconvert_exporter": "python",
   "pygments_lexer": "ipython3",
   "version": "3.11.11"
  }
 },
 "nbformat": 4,
 "nbformat_minor": 2
}
